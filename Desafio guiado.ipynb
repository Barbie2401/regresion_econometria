{
 "cells": [
  {
   "cell_type": "markdown",
   "id": "3f8179e5",
   "metadata": {},
   "source": [
    "# <center><font color='MediumSeaGreen'>Desafío - Regresión desde la econometría</font><center>\n",
    "\n",
    "### <center><b> Bárbara Pérez </b><center>"
   ]
  },
  {
   "cell_type": "markdown",
   "id": "d4b77f2a",
   "metadata": {},
   "source": [
    "_________"
   ]
  },
  {
   "cell_type": "markdown",
   "id": "c4eb26a2",
   "metadata": {},
   "source": [
    "## <font color='MediumSeaGreen'>Descripción</font>"
   ]
  },
  {
   "cell_type": "markdown",
   "id": "d6a7ea16",
   "metadata": {},
   "source": [
    "En la empresa en la cual te encuentras contratado, te solicitan trabajar con un registro de clientes de un banco e información sobre su salud financiera. La base contenida en el csv <span style='background:gainsboro'><font color='dimgray'>Credit</font></span> abarca las siguientes variables:\n",
    "\n",
    "● <span style='background:gainsboro'><font color='dimgray'>Income</font></span>: Ingreso anual disponible en miles de dólares.\n",
    "\n",
    "● <span style='background:gainsboro'><font color='dimgray'>Limit</font></span>: Límite del crédito.\n",
    "\n",
    "● <span style='background:gainsboro'><font color='dimgray'>Rating</font></span>: Ranking del crédito.\n",
    "\n",
    "● <span style='background:gainsboro'><font color='dimgray'>Cards</font></span>: Cantidad de tarjetas de crédito.\n",
    "\n",
    "● <span style='background:gainsboro'><font color='dimgray'>Age</font></span>: Edad del usuario.\n",
    "\n",
    "● <span style='background:gainsboro'><font color='dimgray'>Education</font></span>: Años de educación del usuario.\n",
    "\n",
    "● <span style='background:gainsboro'><font color='dimgray'>Gender</font></span>: ¿Hombre o mujer?\n",
    "\n",
    "● <span style='background:gainsboro'><font color='dimgray'>Student</font></span>: ¿Es estudiante?\n",
    "\n",
    "● <span style='background:gainsboro'><font color='dimgray'>Married</font></span>: ¿Está casado?\n",
    "\n",
    "● <span style='background:gainsboro'><font color='dimgray'>Ethnicity</font></span>: Etnicidad del usuario (Caucásico, Afroamericano, Asiático)\n",
    "\n",
    "● <span style='background:gainsboro'><font color='dimgray'>Balance</font></span>: Promedio de deuda en tarjeta de crédito de usuario.\n",
    "\n",
    "El objetivo que persigue el trabajo con esta base de datos es conocer los determinantes de la variación en el promedio de deuda en tarjeta de crédito. Para ello se te solicita generar modelos econométricos para inspeccionar los efectos de distintos atributos a partir de requerimientos que serán detallados más adelante."
   ]
  },
  {
   "cell_type": "markdown",
   "id": "e4620a17",
   "metadata": {},
   "source": [
    "____"
   ]
  },
  {
   "cell_type": "markdown",
   "id": "a21a7739",
   "metadata": {},
   "source": [
    "## <font color='MediumSeaGreen'>Requerimientos</font> "
   ]
  },
  {
   "cell_type": "markdown",
   "id": "c46871d6",
   "metadata": {},
   "source": [
    "<b><font color='MediumSeaGreen'>1.</font> Preparar el ambiente de trabajo (1 puntos)</b>,Para ello debes:\n",
    "\n",
    "● Importe las librerías básicas para el análisis de datos.\n",
    "\n",
    "● Incluya los import base de <span style='background:gainsboro'><font color='dimgray'>statsmodels</font></span>.\n",
    "\n",
    "● Importe la base de datos <span style='background:gainsboro'><font color='dimgray'>Credit.csv</font></span> y elimine la columna <span style='background:gainsboro'><font color='dimgray'>Unnamed: 0</font></span>.\n",
    "\n",
    "● Siguiendo las buenas prácticas, genere variables binarias para capturar el efecto del grupo minoritario en cada variable. Para el caso de <span style='background:gainsboro'><font color='dimgray'>Ethnicity</font></span>, genere binarias\n",
    "para <span style='background:gainsboro'><font color='dimgray'>African</font></span>, <span style='background:gainsboro'><font color='dimgray'>American</font></span>, <span style='background:gainsboro'><font color='dimgray'>Caucasian</font></span> y <span style='background:gainsboro'><font color='dimgray'>Asian</font></span>.\n",
    "\n",
    "**Tip:** Utilice <span style='background:gainsboro'><font color='dimgray'>value_counts()</font></span> para revisar la cantidad de casos en las variables categóricas"
   ]
  },
  {
   "cell_type": "code",
   "execution_count": 1,
   "id": "a52f5481",
   "metadata": {},
   "outputs": [],
   "source": [
    "import pandas as pd\n",
    "import numpy as np\n",
    "import seaborn as sns\n",
    "import matplotlib.pyplot as plt\n",
    "import scipy.stats as stats\n",
    "import statsmodels.formula.api as smf"
   ]
  },
  {
   "cell_type": "code",
   "execution_count": 2,
   "id": "3a67e023",
   "metadata": {},
   "outputs": [],
   "source": [
    "#importar el dataframe\n",
    "df = pd.read_csv('credit.csv')"
   ]
  },
  {
   "cell_type": "code",
   "execution_count": 3,
   "id": "5aeeae60",
   "metadata": {
    "scrolled": true
   },
   "outputs": [
    {
     "data": {
      "text/html": [
       "<div>\n",
       "<style scoped>\n",
       "    .dataframe tbody tr th:only-of-type {\n",
       "        vertical-align: middle;\n",
       "    }\n",
       "\n",
       "    .dataframe tbody tr th {\n",
       "        vertical-align: top;\n",
       "    }\n",
       "\n",
       "    .dataframe thead th {\n",
       "        text-align: right;\n",
       "    }\n",
       "</style>\n",
       "<table border=\"1\" class=\"dataframe\">\n",
       "  <thead>\n",
       "    <tr style=\"text-align: right;\">\n",
       "      <th></th>\n",
       "      <th>Unnamed: 0</th>\n",
       "      <th>Income</th>\n",
       "      <th>Limit</th>\n",
       "      <th>Rating</th>\n",
       "      <th>Cards</th>\n",
       "      <th>Age</th>\n",
       "      <th>Education</th>\n",
       "      <th>Gender</th>\n",
       "      <th>Student</th>\n",
       "      <th>Married</th>\n",
       "      <th>Ethnicity</th>\n",
       "      <th>Balance</th>\n",
       "    </tr>\n",
       "  </thead>\n",
       "  <tbody>\n",
       "    <tr>\n",
       "      <th>0</th>\n",
       "      <td>1</td>\n",
       "      <td>14.891</td>\n",
       "      <td>3606</td>\n",
       "      <td>283</td>\n",
       "      <td>2</td>\n",
       "      <td>34</td>\n",
       "      <td>11</td>\n",
       "      <td>Male</td>\n",
       "      <td>No</td>\n",
       "      <td>Yes</td>\n",
       "      <td>Caucasian</td>\n",
       "      <td>333</td>\n",
       "    </tr>\n",
       "    <tr>\n",
       "      <th>1</th>\n",
       "      <td>2</td>\n",
       "      <td>106.025</td>\n",
       "      <td>6645</td>\n",
       "      <td>483</td>\n",
       "      <td>3</td>\n",
       "      <td>82</td>\n",
       "      <td>15</td>\n",
       "      <td>Female</td>\n",
       "      <td>Yes</td>\n",
       "      <td>Yes</td>\n",
       "      <td>Asian</td>\n",
       "      <td>903</td>\n",
       "    </tr>\n",
       "    <tr>\n",
       "      <th>2</th>\n",
       "      <td>3</td>\n",
       "      <td>104.593</td>\n",
       "      <td>7075</td>\n",
       "      <td>514</td>\n",
       "      <td>4</td>\n",
       "      <td>71</td>\n",
       "      <td>11</td>\n",
       "      <td>Male</td>\n",
       "      <td>No</td>\n",
       "      <td>No</td>\n",
       "      <td>Asian</td>\n",
       "      <td>580</td>\n",
       "    </tr>\n",
       "    <tr>\n",
       "      <th>3</th>\n",
       "      <td>4</td>\n",
       "      <td>148.924</td>\n",
       "      <td>9504</td>\n",
       "      <td>681</td>\n",
       "      <td>3</td>\n",
       "      <td>36</td>\n",
       "      <td>11</td>\n",
       "      <td>Female</td>\n",
       "      <td>No</td>\n",
       "      <td>No</td>\n",
       "      <td>Asian</td>\n",
       "      <td>964</td>\n",
       "    </tr>\n",
       "    <tr>\n",
       "      <th>4</th>\n",
       "      <td>5</td>\n",
       "      <td>55.882</td>\n",
       "      <td>4897</td>\n",
       "      <td>357</td>\n",
       "      <td>2</td>\n",
       "      <td>68</td>\n",
       "      <td>16</td>\n",
       "      <td>Male</td>\n",
       "      <td>No</td>\n",
       "      <td>Yes</td>\n",
       "      <td>Caucasian</td>\n",
       "      <td>331</td>\n",
       "    </tr>\n",
       "  </tbody>\n",
       "</table>\n",
       "</div>"
      ],
      "text/plain": [
       "   Unnamed: 0   Income  Limit  Rating  Cards  Age  Education  Gender Student  \\\n",
       "0           1   14.891   3606     283      2   34         11    Male      No   \n",
       "1           2  106.025   6645     483      3   82         15  Female     Yes   \n",
       "2           3  104.593   7075     514      4   71         11    Male      No   \n",
       "3           4  148.924   9504     681      3   36         11  Female      No   \n",
       "4           5   55.882   4897     357      2   68         16    Male      No   \n",
       "\n",
       "  Married  Ethnicity  Balance  \n",
       "0     Yes  Caucasian      333  \n",
       "1     Yes      Asian      903  \n",
       "2      No      Asian      580  \n",
       "3      No      Asian      964  \n",
       "4     Yes  Caucasian      331  "
      ]
     },
     "execution_count": 3,
     "metadata": {},
     "output_type": "execute_result"
    }
   ],
   "source": [
    "#Revisamos el dataframe\n",
    "df.head()"
   ]
  },
  {
   "cell_type": "code",
   "execution_count": 4,
   "id": "046ba3d0",
   "metadata": {
    "scrolled": true
   },
   "outputs": [],
   "source": [
    "#Eliminamos 'Unnamed: 0'\n",
    "df=df.drop(['Unnamed: 0'], axis=1)"
   ]
  },
  {
   "cell_type": "code",
   "execution_count": 5,
   "id": "06fcd3cb",
   "metadata": {},
   "outputs": [
    {
     "name": "stdout",
     "output_type": "stream",
     "text": [
      "<class 'pandas.core.frame.DataFrame'>\n",
      "RangeIndex: 400 entries, 0 to 399\n",
      "Data columns (total 11 columns):\n",
      " #   Column     Non-Null Count  Dtype  \n",
      "---  ------     --------------  -----  \n",
      " 0   Income     400 non-null    float64\n",
      " 1   Limit      400 non-null    int64  \n",
      " 2   Rating     400 non-null    int64  \n",
      " 3   Cards      400 non-null    int64  \n",
      " 4   Age        400 non-null    int64  \n",
      " 5   Education  400 non-null    int64  \n",
      " 6   Gender     400 non-null    object \n",
      " 7   Student    400 non-null    object \n",
      " 8   Married    400 non-null    object \n",
      " 9   Ethnicity  400 non-null    object \n",
      " 10  Balance    400 non-null    int64  \n",
      "dtypes: float64(1), int64(6), object(4)\n",
      "memory usage: 34.5+ KB\n"
     ]
    }
   ],
   "source": [
    "#Obtenemos el tipo de informacion que tiene el dataframe\n",
    "df.info()\n"
   ]
  },
  {
   "cell_type": "code",
   "execution_count": 6,
   "id": "53e877cf",
   "metadata": {},
   "outputs": [
    {
     "data": {
      "text/html": [
       "<div>\n",
       "<style scoped>\n",
       "    .dataframe tbody tr th:only-of-type {\n",
       "        vertical-align: middle;\n",
       "    }\n",
       "\n",
       "    .dataframe tbody tr th {\n",
       "        vertical-align: top;\n",
       "    }\n",
       "\n",
       "    .dataframe thead th {\n",
       "        text-align: right;\n",
       "    }\n",
       "</style>\n",
       "<table border=\"1\" class=\"dataframe\">\n",
       "  <thead>\n",
       "    <tr style=\"text-align: right;\">\n",
       "      <th></th>\n",
       "      <th>Income</th>\n",
       "      <th>Limit</th>\n",
       "      <th>Rating</th>\n",
       "      <th>Cards</th>\n",
       "      <th>Age</th>\n",
       "      <th>Education</th>\n",
       "      <th>Gender</th>\n",
       "      <th>Student</th>\n",
       "      <th>Married</th>\n",
       "      <th>Ethnicity</th>\n",
       "      <th>Balance</th>\n",
       "    </tr>\n",
       "  </thead>\n",
       "  <tbody>\n",
       "    <tr>\n",
       "      <th>0</th>\n",
       "      <td>14.891</td>\n",
       "      <td>3606</td>\n",
       "      <td>283</td>\n",
       "      <td>2</td>\n",
       "      <td>34</td>\n",
       "      <td>11</td>\n",
       "      <td>Male</td>\n",
       "      <td>No</td>\n",
       "      <td>Yes</td>\n",
       "      <td>Caucasian</td>\n",
       "      <td>333</td>\n",
       "    </tr>\n",
       "    <tr>\n",
       "      <th>1</th>\n",
       "      <td>106.025</td>\n",
       "      <td>6645</td>\n",
       "      <td>483</td>\n",
       "      <td>3</td>\n",
       "      <td>82</td>\n",
       "      <td>15</td>\n",
       "      <td>Female</td>\n",
       "      <td>Yes</td>\n",
       "      <td>Yes</td>\n",
       "      <td>Asian</td>\n",
       "      <td>903</td>\n",
       "    </tr>\n",
       "    <tr>\n",
       "      <th>2</th>\n",
       "      <td>104.593</td>\n",
       "      <td>7075</td>\n",
       "      <td>514</td>\n",
       "      <td>4</td>\n",
       "      <td>71</td>\n",
       "      <td>11</td>\n",
       "      <td>Male</td>\n",
       "      <td>No</td>\n",
       "      <td>No</td>\n",
       "      <td>Asian</td>\n",
       "      <td>580</td>\n",
       "    </tr>\n",
       "    <tr>\n",
       "      <th>3</th>\n",
       "      <td>148.924</td>\n",
       "      <td>9504</td>\n",
       "      <td>681</td>\n",
       "      <td>3</td>\n",
       "      <td>36</td>\n",
       "      <td>11</td>\n",
       "      <td>Female</td>\n",
       "      <td>No</td>\n",
       "      <td>No</td>\n",
       "      <td>Asian</td>\n",
       "      <td>964</td>\n",
       "    </tr>\n",
       "    <tr>\n",
       "      <th>4</th>\n",
       "      <td>55.882</td>\n",
       "      <td>4897</td>\n",
       "      <td>357</td>\n",
       "      <td>2</td>\n",
       "      <td>68</td>\n",
       "      <td>16</td>\n",
       "      <td>Male</td>\n",
       "      <td>No</td>\n",
       "      <td>Yes</td>\n",
       "      <td>Caucasian</td>\n",
       "      <td>331</td>\n",
       "    </tr>\n",
       "  </tbody>\n",
       "</table>\n",
       "</div>"
      ],
      "text/plain": [
       "    Income  Limit  Rating  Cards  Age  Education  Gender Student Married  \\\n",
       "0   14.891   3606     283      2   34         11    Male      No     Yes   \n",
       "1  106.025   6645     483      3   82         15  Female     Yes     Yes   \n",
       "2  104.593   7075     514      4   71         11    Male      No      No   \n",
       "3  148.924   9504     681      3   36         11  Female      No      No   \n",
       "4   55.882   4897     357      2   68         16    Male      No     Yes   \n",
       "\n",
       "   Ethnicity  Balance  \n",
       "0  Caucasian      333  \n",
       "1      Asian      903  \n",
       "2      Asian      580  \n",
       "3      Asian      964  \n",
       "4  Caucasian      331  "
      ]
     },
     "execution_count": 6,
     "metadata": {},
     "output_type": "execute_result"
    }
   ],
   "source": [
    "df.head()"
   ]
  },
  {
   "cell_type": "code",
   "execution_count": 7,
   "id": "e4adf2a2",
   "metadata": {},
   "outputs": [
    {
     "data": {
      "text/plain": [
       "['Gender', 'Student', 'Married', 'Ethnicity']"
      ]
     },
     "execution_count": 7,
     "metadata": {},
     "output_type": "execute_result"
    }
   ],
   "source": [
    "\n",
    "#Definimos la variables categóricas\n",
    "variables_categoricas = []\n",
    "for n, i in enumerate(df):\n",
    "    if df[i].dtypes ==\"object\":\n",
    "        variables_categoricas.append(i)\n",
    "variables_categoricas    "
   ]
  },
  {
   "cell_type": "code",
   "execution_count": 8,
   "id": "eaf68bb8",
   "metadata": {},
   "outputs": [
    {
     "name": "stdout",
     "output_type": "stream",
     "text": [
      "\n",
      " Gender\n",
      "Female    207\n",
      " Male     193\n",
      "Name: Gender, dtype: int64\n",
      "Female    0.5175\n",
      " Male     0.4825\n",
      "Name: Gender, dtype: float64\n",
      "\n",
      " Student\n",
      "No     360\n",
      "Yes     40\n",
      "Name: Student, dtype: int64\n",
      "No     0.9\n",
      "Yes    0.1\n",
      "Name: Student, dtype: float64\n",
      "\n",
      " Married\n",
      "Yes    245\n",
      "No     155\n",
      "Name: Married, dtype: int64\n",
      "Yes    0.6125\n",
      "No     0.3875\n",
      "Name: Married, dtype: float64\n",
      "\n",
      " Ethnicity\n",
      "Caucasian           199\n",
      "Asian               102\n",
      "African American     99\n",
      "Name: Ethnicity, dtype: int64\n",
      "Caucasian           0.4975\n",
      "Asian               0.2550\n",
      "African American    0.2475\n",
      "Name: Ethnicity, dtype: float64\n"
     ]
    }
   ],
   "source": [
    "#inspeccionamos la variables categóricas para identificar el grupo minoritario\n",
    "for i in variables_categoricas:\n",
    "    print(\"\\n\",i)\n",
    "    print(df[i].value_counts())\n",
    "    print((df[i].value_counts()/len(df[i])))"
   ]
  },
  {
   "cell_type": "markdown",
   "id": "6cd79379",
   "metadata": {},
   "source": [
    "● Siguiendo las buenas prácticas, genere variables binarias para capturar el efecto del grupo minoritario en cada variable. Para el caso de <span style='background:gainsboro'><font color='dimgray'>Ethnicity</font></span>, genere binarias\n",
    "para <span style='background:gainsboro'><font color='dimgray'>African</font></span>, <span style='background:gainsboro'><font color='dimgray'>American</font></span>, <span style='background:gainsboro'><font color='dimgray'>Caucasian</font></span> y <span style='background:gainsboro'><font color='dimgray'>Asian</font></span>."
   ]
  },
  {
   "cell_type": "code",
   "execution_count": 9,
   "id": "fa924289",
   "metadata": {},
   "outputs": [
    {
     "data": {
      "text/plain": [
       "' Male'"
      ]
     },
     "execution_count": 9,
     "metadata": {},
     "output_type": "execute_result"
    }
   ],
   "source": [
    "#Se observa que Male de la variable  'Gender' tiene un espacio, por lo que nos aseguramos , revisaremos y eliminaremos dicho espacio.\n",
    "\n",
    "#revisamos la variable 'Gender'\n",
    "df['Gender'][0]"
   ]
  },
  {
   "cell_type": "code",
   "execution_count": 10,
   "id": "bf90102d",
   "metadata": {},
   "outputs": [],
   "source": [
    "#limpiamos la variable 'Gender' de los espacios en blanco\n",
    "df['Gender'] = df['Gender'].str.strip()"
   ]
  },
  {
   "cell_type": "code",
   "execution_count": 11,
   "id": "4ca7a838",
   "metadata": {},
   "outputs": [],
   "source": [
    "#Binarizamos el grupo minoritario de cada vaariable\n",
    "df['Is_Male']= np.where(df['Gender'] == 'Male',1,0 )\n",
    "df['Is_Student']= np.where(df['Student'] == 'Yes',1,0 )\n",
    "df['Not_Married']= np.where(df['Married'] == 'No',1,0 )\n",
    "df['Is_African_American']= np.where(df['Ethnicity'] == 'African American',1,0 )\n",
    "df['Is_Asian']= np.where(df['Ethnicity'] == 'Asian',1,0 )"
   ]
  },
  {
   "cell_type": "code",
   "execution_count": 12,
   "id": "e0cc15ba",
   "metadata": {},
   "outputs": [
    {
     "data": {
      "text/html": [
       "<div>\n",
       "<style scoped>\n",
       "    .dataframe tbody tr th:only-of-type {\n",
       "        vertical-align: middle;\n",
       "    }\n",
       "\n",
       "    .dataframe tbody tr th {\n",
       "        vertical-align: top;\n",
       "    }\n",
       "\n",
       "    .dataframe thead th {\n",
       "        text-align: right;\n",
       "    }\n",
       "</style>\n",
       "<table border=\"1\" class=\"dataframe\">\n",
       "  <thead>\n",
       "    <tr style=\"text-align: right;\">\n",
       "      <th></th>\n",
       "      <th>Income</th>\n",
       "      <th>Limit</th>\n",
       "      <th>Rating</th>\n",
       "      <th>Cards</th>\n",
       "      <th>Age</th>\n",
       "      <th>Education</th>\n",
       "      <th>Gender</th>\n",
       "      <th>Student</th>\n",
       "      <th>Married</th>\n",
       "      <th>Ethnicity</th>\n",
       "      <th>Balance</th>\n",
       "      <th>Is_Male</th>\n",
       "      <th>Is_Student</th>\n",
       "      <th>Not_Married</th>\n",
       "      <th>Is_African_American</th>\n",
       "      <th>Is_Asian</th>\n",
       "    </tr>\n",
       "  </thead>\n",
       "  <tbody>\n",
       "    <tr>\n",
       "      <th>0</th>\n",
       "      <td>14.891</td>\n",
       "      <td>3606</td>\n",
       "      <td>283</td>\n",
       "      <td>2</td>\n",
       "      <td>34</td>\n",
       "      <td>11</td>\n",
       "      <td>Male</td>\n",
       "      <td>No</td>\n",
       "      <td>Yes</td>\n",
       "      <td>Caucasian</td>\n",
       "      <td>333</td>\n",
       "      <td>1</td>\n",
       "      <td>0</td>\n",
       "      <td>0</td>\n",
       "      <td>0</td>\n",
       "      <td>0</td>\n",
       "    </tr>\n",
       "    <tr>\n",
       "      <th>1</th>\n",
       "      <td>106.025</td>\n",
       "      <td>6645</td>\n",
       "      <td>483</td>\n",
       "      <td>3</td>\n",
       "      <td>82</td>\n",
       "      <td>15</td>\n",
       "      <td>Female</td>\n",
       "      <td>Yes</td>\n",
       "      <td>Yes</td>\n",
       "      <td>Asian</td>\n",
       "      <td>903</td>\n",
       "      <td>0</td>\n",
       "      <td>1</td>\n",
       "      <td>0</td>\n",
       "      <td>0</td>\n",
       "      <td>1</td>\n",
       "    </tr>\n",
       "    <tr>\n",
       "      <th>2</th>\n",
       "      <td>104.593</td>\n",
       "      <td>7075</td>\n",
       "      <td>514</td>\n",
       "      <td>4</td>\n",
       "      <td>71</td>\n",
       "      <td>11</td>\n",
       "      <td>Male</td>\n",
       "      <td>No</td>\n",
       "      <td>No</td>\n",
       "      <td>Asian</td>\n",
       "      <td>580</td>\n",
       "      <td>1</td>\n",
       "      <td>0</td>\n",
       "      <td>1</td>\n",
       "      <td>0</td>\n",
       "      <td>1</td>\n",
       "    </tr>\n",
       "    <tr>\n",
       "      <th>3</th>\n",
       "      <td>148.924</td>\n",
       "      <td>9504</td>\n",
       "      <td>681</td>\n",
       "      <td>3</td>\n",
       "      <td>36</td>\n",
       "      <td>11</td>\n",
       "      <td>Female</td>\n",
       "      <td>No</td>\n",
       "      <td>No</td>\n",
       "      <td>Asian</td>\n",
       "      <td>964</td>\n",
       "      <td>0</td>\n",
       "      <td>0</td>\n",
       "      <td>1</td>\n",
       "      <td>0</td>\n",
       "      <td>1</td>\n",
       "    </tr>\n",
       "    <tr>\n",
       "      <th>4</th>\n",
       "      <td>55.882</td>\n",
       "      <td>4897</td>\n",
       "      <td>357</td>\n",
       "      <td>2</td>\n",
       "      <td>68</td>\n",
       "      <td>16</td>\n",
       "      <td>Male</td>\n",
       "      <td>No</td>\n",
       "      <td>Yes</td>\n",
       "      <td>Caucasian</td>\n",
       "      <td>331</td>\n",
       "      <td>1</td>\n",
       "      <td>0</td>\n",
       "      <td>0</td>\n",
       "      <td>0</td>\n",
       "      <td>0</td>\n",
       "    </tr>\n",
       "  </tbody>\n",
       "</table>\n",
       "</div>"
      ],
      "text/plain": [
       "    Income  Limit  Rating  Cards  Age  Education  Gender Student Married  \\\n",
       "0   14.891   3606     283      2   34         11    Male      No     Yes   \n",
       "1  106.025   6645     483      3   82         15  Female     Yes     Yes   \n",
       "2  104.593   7075     514      4   71         11    Male      No      No   \n",
       "3  148.924   9504     681      3   36         11  Female      No      No   \n",
       "4   55.882   4897     357      2   68         16    Male      No     Yes   \n",
       "\n",
       "   Ethnicity  Balance  Is_Male  Is_Student  Not_Married  Is_African_American  \\\n",
       "0  Caucasian      333        1           0            0                    0   \n",
       "1      Asian      903        0           1            0                    0   \n",
       "2      Asian      580        1           0            1                    0   \n",
       "3      Asian      964        0           0            1                    0   \n",
       "4  Caucasian      331        1           0            0                    0   \n",
       "\n",
       "   Is_Asian  \n",
       "0         0  \n",
       "1         1  \n",
       "2         1  \n",
       "3         1  \n",
       "4         0  "
      ]
     },
     "execution_count": 12,
     "metadata": {},
     "output_type": "execute_result"
    }
   ],
   "source": [
    "#verificamos cambios realizados\n",
    "df.head()"
   ]
  },
  {
   "cell_type": "markdown",
   "id": "a774d445",
   "metadata": {},
   "source": [
    "<b><font color='MediumSeaGreen'>2.</font> Generar gráficos descriptivos para las variables continuas (1 puntos):</b>\n",
    "\n",
    "● Genere una función llamada <span style='background:gainsboro'><font color='dimgray'>plot_hist</font></span> que genere un histograma de la variable e indique la media y mediana de la misma. Agregue una leyenda para indicar qué representa cada línea.\n",
    "\n",
    "● ¿Cuál es el comportamiento de <span style='background:gainsboro'><font color='dimgray'>Balance</font></span>, <span style='background:gainsboro'><font color='dimgray'>Income</font></span>, <span style='background:gainsboro'><font color='dimgray'>Cards</font></span> y <span style='background:gainsboro'><font color='dimgray'>Rating</font></span>?"
   ]
  },
  {
   "cell_type": "code",
   "execution_count": 13,
   "id": "9b4dc0c7",
   "metadata": {},
   "outputs": [],
   "source": [
    "#generamos la función llamada plot_hist\n",
    "\n",
    "def plot_hist(dataframe, variable):\n",
    "    df_temp = dataframe\n",
    "    sns.distplot(df_temp[variable])\n",
    "    \n",
    "    mean=df_temp[variable].mean()\n",
    "    \n",
    "    median=df_temp[variable].median()\n",
    "    \n",
    "    plt.axvline(mean, color='tomato')\n",
    "    plt.axvline(median, color='green')\n",
    "    plt.legend({'Media':mean,'Mediana':median})"
   ]
  },
  {
   "cell_type": "markdown",
   "id": "93fcd859",
   "metadata": {},
   "source": [
    "● ¿Cuál es el comportamiento de <span style='background:gainsboro'><font color='dimgray'>Balance</font></span>, <span style='background:gainsboro'><font color='dimgray'>Income</font></span>, <span style='background:gainsboro'><font color='dimgray'>Cards</font></span> y <span style='background:gainsboro'><font color='dimgray'>Rating</font></span>?"
   ]
  },
  {
   "cell_type": "code",
   "execution_count": 14,
   "id": "bc57089f",
   "metadata": {},
   "outputs": [
    {
     "name": "stderr",
     "output_type": "stream",
     "text": [
      "C:\\ProgramData\\Anaconda3\\envs\\rstudio\\lib\\site-packages\\seaborn\\distributions.py:2619: FutureWarning: `distplot` is a deprecated function and will be removed in a future version. Please adapt your code to use either `displot` (a figure-level function with similar flexibility) or `histplot` (an axes-level function for histograms).\n",
      "  warnings.warn(msg, FutureWarning)\n"
     ]
    },
    {
     "data": {
      "image/png": "[encoded data removed]",
      "text/plain": [
       "<Figure size 432x288 with 1 Axes>"
      ]
     },
     "metadata": {
      "needs_background": "light"
     },
     "output_type": "display_data"
    }
   ],
   "source": [
    "plot_hist(df, 'Balance')"
   ]
  },
  {
   "cell_type": "markdown",
   "id": "a79acb68",
   "metadata": {},
   "source": [
    "- Se observa una distribución bimodal con sesgo positivo (hacia la derecha)"
   ]
  },
  {
   "cell_type": "code",
   "execution_count": 15,
   "id": "e8054ddc",
   "metadata": {},
   "outputs": [
    {
     "name": "stderr",
     "output_type": "stream",
     "text": [
      "C:\\ProgramData\\Anaconda3\\envs\\rstudio\\lib\\site-packages\\seaborn\\distributions.py:2619: FutureWarning: `distplot` is a deprecated function and will be removed in a future version. Please adapt your code to use either `displot` (a figure-level function with similar flexibility) or `histplot` (an axes-level function for histograms).\n",
      "  warnings.warn(msg, FutureWarning)\n"
     ]
    },
    {
     "data": {
      "image/png": "[encoded data removed]",
      "text/plain": [
       "<Figure size 432x288 with 1 Axes>"
      ]
     },
     "metadata": {
      "needs_background": "light"
     },
     "output_type": "display_data"
    }
   ],
   "source": [
    "plot_hist(df, 'Income')"
   ]
  },
  {
   "cell_type": "markdown",
   "id": "af9a16ad",
   "metadata": {},
   "source": [
    "- Se observa una distribución con sesgo positivo."
   ]
  },
  {
   "cell_type": "code",
   "execution_count": 16,
   "id": "0538785f",
   "metadata": {
    "scrolled": true
   },
   "outputs": [
    {
     "name": "stderr",
     "output_type": "stream",
     "text": [
      "C:\\ProgramData\\Anaconda3\\envs\\rstudio\\lib\\site-packages\\seaborn\\distributions.py:2619: FutureWarning: `distplot` is a deprecated function and will be removed in a future version. Please adapt your code to use either `displot` (a figure-level function with similar flexibility) or `histplot` (an axes-level function for histograms).\n",
      "  warnings.warn(msg, FutureWarning)\n"
     ]
    },
    {
     "data": {
      "image/png": "[encoded data removed]",
      "text/plain": [
       "<Figure size 432x288 with 1 Axes>"
      ]
     },
     "metadata": {
      "needs_background": "light"
     },
     "output_type": "display_data"
    }
   ],
   "source": [
    "plot_hist(df, 'Cards')"
   ]
  },
  {
   "cell_type": "markdown",
   "id": "367ea32e",
   "metadata": {},
   "source": [
    "- Se observa una distribución bimodal con leve sesgo positivo"
   ]
  },
  {
   "cell_type": "code",
   "execution_count": 17,
   "id": "f90032a7",
   "metadata": {
    "scrolled": true
   },
   "outputs": [
    {
     "name": "stderr",
     "output_type": "stream",
     "text": [
      "C:\\ProgramData\\Anaconda3\\envs\\rstudio\\lib\\site-packages\\seaborn\\distributions.py:2619: FutureWarning: `distplot` is a deprecated function and will be removed in a future version. Please adapt your code to use either `displot` (a figure-level function with similar flexibility) or `histplot` (an axes-level function for histograms).\n",
      "  warnings.warn(msg, FutureWarning)\n"
     ]
    },
    {
     "data": {
      "image/png": "[encoded data removed]",
      "text/plain": [
       "<Figure size 432x288 with 1 Axes>"
      ]
     },
     "metadata": {
      "needs_background": "light"
     },
     "output_type": "display_data"
    }
   ],
   "source": [
    "plot_hist(df, 'Rating')"
   ]
  },
  {
   "cell_type": "markdown",
   "id": "79717bdd",
   "metadata": {},
   "source": [
    "- Se observa una distribución con leve sesgo positivo\n"
   ]
  },
  {
   "cell_type": "markdown",
   "id": "3650ccbb",
   "metadata": {},
   "source": [
    "___"
   ]
  },
  {
   "cell_type": "markdown",
   "id": "a27e11e5",
   "metadata": {},
   "source": [
    "<b><font color='MediumSeaGreen'>3.</font> Regresión Lineal Simple (2 puntos).</b> Para ello se debe:\n",
    "\n",
    "● Generar una serie de modelos simples:\n",
    "\n",
    "* $Balance = \\beta_{0} + \\beta{1} \\times Student + \\epsilon$\n",
    "* $Balance = \\beta_{0} + \\beta{1} \\times Income + \\epsilon$\n",
    "* $Balance = \\beta_{0} + \\beta{1} \\times Rating + \\epsilon$\n",
    "\n",
    "\n",
    "● Utilizando <span style='background:gainsboro'><font color='dimgray'>statsmodels</font></span>, comente brevemente los siguientes puntos:\n",
    "\n",
    "○ ¿Qué variable presenta un mayor poder explicativo de la variabilidad de <span style='background:gainsboro'><font color='dimgray'>Balance</font></span>?\n",
    "\n",
    "○ ¿Qué podemos decir sobre el comportamiento de <span style='background:gainsboro'><font color='dimgray'>Student</font></span>?\n",
    "\n",
    "○ ¿Qué pasa si aplicamos una prueba de hipótesis para muestras independientes de <span style='background:gainsboro'><font color='dimgray'>Balance</font></span> entre aquellos que son y no son estudiantes?\n"
   ]
  },
  {
   "cell_type": "code",
   "execution_count": 18,
   "id": "d808831d",
   "metadata": {
    "scrolled": true
   },
   "outputs": [
    {
     "name": "stdout",
     "output_type": "stream",
     "text": [
      "\n",
      "\n",
      "\n",
      "Summary2 Modelo \u001b[1mBalance ~ Student\u001b[0m:\n",
      "\n",
      "                  Results: Ordinary least squares\n",
      "===================================================================\n",
      "Model:              OLS              Adj. R-squared:     0.065     \n",
      "Dependent Variable: Balance          AIC:                6014.9327 \n",
      "Date:               2022-07-21 20:32 BIC:                6022.9156 \n",
      "No. Observations:   400              Log-Likelihood:     -3005.5   \n",
      "Df Model:           1                F-statistic:        28.62     \n",
      "Df Residuals:       398              Prob (F-statistic): 1.49e-07  \n",
      "R-squared:          0.067            Scale:              1.9769e+05\n",
      "-------------------------------------------------------------------\n",
      "                  Coef.   Std.Err.    t    P>|t|   [0.025   0.975] \n",
      "-------------------------------------------------------------------\n",
      "Intercept        480.3694  23.4338 20.4990 0.0000 434.2998 526.4390\n",
      "Student[T.Yes]   396.4556  74.1043  5.3500 0.0000 250.7707 542.1404\n",
      "-------------------------------------------------------------------\n",
      "Omnibus:              20.866        Durbin-Watson:           1.950 \n",
      "Prob(Omnibus):        0.000         Jarque-Bera (JB):        21.920\n",
      "Skew:                 0.544         Prob(JB):                0.000 \n",
      "Kurtosis:             2.637         Condition No.:           3     \n",
      "===================================================================\n",
      "\n",
      "\n",
      "\n",
      "\n",
      "Summary2 Modelo \u001b[1mBalance ~ Income\u001b[0m:\n",
      "\n",
      "                  Results: Ordinary least squares\n",
      "===================================================================\n",
      "Model:              OLS              Adj. R-squared:     0.213     \n",
      "Dependent Variable: Balance          AIC:                5945.8942 \n",
      "Date:               2022-07-21 20:32 BIC:                5953.8772 \n",
      "No. Observations:   400              Log-Likelihood:     -2970.9   \n",
      "Df Model:           1                F-statistic:        109.0     \n",
      "Df Residuals:       398              Prob (F-statistic): 1.03e-22  \n",
      "R-squared:          0.215            Scale:              1.6635e+05\n",
      "--------------------------------------------------------------------\n",
      "              Coef.    Std.Err.     t     P>|t|    [0.025    0.975] \n",
      "--------------------------------------------------------------------\n",
      "Intercept    246.5148   33.1993   7.4253  0.0000  181.2467  311.7828\n",
      "Income         6.0484    0.5794  10.4399  0.0000    4.9094    7.1873\n",
      "-------------------------------------------------------------------\n",
      "Omnibus:              42.505        Durbin-Watson:           1.951 \n",
      "Prob(Omnibus):        0.000         Jarque-Bera (JB):        20.975\n",
      "Skew:                 0.384         Prob(JB):                0.000 \n",
      "Kurtosis:             2.182         Condition No.:           93    \n",
      "===================================================================\n",
      "\n",
      "\n",
      "\n",
      "\n",
      "Summary2 Modelo \u001b[1mBalance ~ Rating\u001b[0m:\n",
      "\n",
      "                 Results: Ordinary least squares\n",
      "==================================================================\n",
      "Model:              OLS              Adj. R-squared:     0.745    \n",
      "Dependent Variable: Balance          AIC:                5494.7815\n",
      "Date:               2022-07-21 20:32 BIC:                5502.7645\n",
      "No. Observations:   400              Log-Likelihood:     -2745.4  \n",
      "Df Model:           1                F-statistic:        1168.    \n",
      "Df Residuals:       398              Prob (F-statistic): 1.90e-120\n",
      "R-squared:          0.746            Scale:              53857.   \n",
      "------------------------------------------------------------------\n",
      "              Coef.   Std.Err.    t     P>|t|    [0.025    0.975] \n",
      "------------------------------------------------------------------\n",
      "Intercept   -390.8463  29.0685 -13.4457 0.0000 -447.9934 -333.6993\n",
      "Rating         2.5662   0.0751  34.1759 0.0000    2.4186    2.7139\n",
      "------------------------------------------------------------------\n",
      "Omnibus:               23.223       Durbin-Watson:          1.966 \n",
      "Prob(Omnibus):         0.000        Jarque-Bera (JB):       38.802\n",
      "Skew:                  0.390        Prob(JB):               0.000 \n",
      "Kurtosis:              4.311        Condition No.:          970   \n",
      "==================================================================\n",
      "\n",
      "\n",
      "\n",
      "\n",
      "Summary2 Modelo \u001b[1mBalance ~ Cards\u001b[0m:\n",
      "\n",
      "                  Results: Ordinary least squares\n",
      "===================================================================\n",
      "Model:              OLS              Adj. R-squared:     0.005     \n",
      "Dependent Variable: Balance          AIC:                6039.7102 \n",
      "Date:               2022-07-21 20:32 BIC:                6047.6931 \n",
      "No. Observations:   400              Log-Likelihood:     -3017.9   \n",
      "Df Model:           1                F-statistic:        2.997     \n",
      "Df Residuals:       398              Prob (F-statistic): 0.0842    \n",
      "R-squared:          0.007            Scale:              2.1033e+05\n",
      "--------------------------------------------------------------------\n",
      "               Coef.    Std.Err.    t     P>|t|    [0.025    0.975] \n",
      "--------------------------------------------------------------------\n",
      "Intercept     434.2861   54.5693  7.9584  0.0000  327.0060  541.5662\n",
      "Cards          28.9869   16.7431  1.7313  0.0842   -3.9289   61.9028\n",
      "-------------------------------------------------------------------\n",
      "Omnibus:              28.964        Durbin-Watson:           1.957 \n",
      "Prob(Omnibus):        0.000         Jarque-Bera (JB):        26.603\n",
      "Skew:                 0.566         Prob(JB):                0.000 \n",
      "Kurtosis:             2.437         Condition No.:           8     \n",
      "===================================================================\n",
      "\n",
      "\n",
      "\n",
      "\n",
      "Summary2 Modelo \u001b[1mBalance ~ Age\u001b[0m:\n",
      "\n",
      "                  Results: Ordinary least squares\n",
      "===================================================================\n",
      "Model:              OLS              Adj. R-squared:     -0.003    \n",
      "Dependent Variable: Balance          AIC:                6042.7100 \n",
      "Date:               2022-07-21 20:32 BIC:                6050.6929 \n",
      "No. Observations:   400              Log-Likelihood:     -3019.4   \n",
      "Df Model:           1                F-statistic:        0.001340  \n",
      "Df Residuals:       398              Prob (F-statistic): 0.971     \n",
      "R-squared:          0.000            Scale:              2.1191e+05\n",
      "--------------------------------------------------------------------\n",
      "               Coef.    Std.Err.    t     P>|t|    [0.025    0.975] \n",
      "--------------------------------------------------------------------\n",
      "Intercept     517.2922   77.8515  6.6446  0.0000  364.2406  670.3438\n",
      "Age             0.0489    1.3360  0.0366  0.9708   -2.5776    2.6754\n",
      "-------------------------------------------------------------------\n",
      "Omnibus:              28.715        Durbin-Watson:           1.945 \n",
      "Prob(Omnibus):        0.000         Jarque-Bera (JB):        27.393\n",
      "Skew:                 0.582         Prob(JB):                0.000 \n",
      "Kurtosis:             2.463         Condition No.:           197   \n",
      "===================================================================\n",
      "\n",
      "\n",
      "\n",
      "\n",
      "Summary2 Modelo \u001b[1mBalance ~ Education\u001b[0m:\n",
      "\n",
      "                  Results: Ordinary least squares\n",
      "===================================================================\n",
      "Model:              OLS              Adj. R-squared:     -0.002    \n",
      "Dependent Variable: Balance          AIC:                6042.6853 \n",
      "Date:               2022-07-21 20:32 BIC:                6050.6682 \n",
      "No. Observations:   400              Log-Likelihood:     -3019.3   \n",
      "Df Model:           1                F-statistic:        0.02587   \n",
      "Df Residuals:       398              Prob (F-statistic): 0.872     \n",
      "R-squared:          0.000            Scale:              2.1190e+05\n",
      "--------------------------------------------------------------------\n",
      "              Coef.    Std.Err.     t     P>|t|    [0.025    0.975] \n",
      "--------------------------------------------------------------------\n",
      "Intercept    535.9662  101.8142   5.2642  0.0000  335.8053  736.1271\n",
      "Education     -1.1860    7.3739  -0.1608  0.8723  -15.6826   13.3106\n",
      "-------------------------------------------------------------------\n",
      "Omnibus:              28.655        Durbin-Watson:           1.943 \n",
      "Prob(Omnibus):        0.000         Jarque-Bera (JB):        27.467\n",
      "Skew:                 0.584         Prob(JB):                0.000 \n",
      "Kurtosis:             2.467         Condition No.:           61    \n",
      "===================================================================\n",
      "\n"
     ]
    }
   ],
   "source": [
    "#Creamos los modelos respectivos\n",
    "variables = ['Student', 'Income', 'Rating', 'Cards', 'Age', 'Education']\n",
    "modelos = {}\n",
    "for v in variables:\n",
    "    modelos[v] = smf.ols('Balance ~ '+v,df).fit()\n",
    "    print(\"\\n\\n\")\n",
    "    print(f\"Summary2 Modelo \\033[1mBalance ~ {v}\\033[0m:\\n\")\n",
    "    print(modelos[v].summary2())    "
   ]
  },
  {
   "cell_type": "markdown",
   "id": "6d0f0711",
   "metadata": {},
   "source": [
    "○ **¿Qué variable presenta un mayor poder explicativo de la variabilidad de <span style='background:gainsboro'><font color='dimgray'>Balance</font></span>?**\n"
   ]
  },
  {
   "cell_type": "markdown",
   "id": "18490c9d",
   "metadata": {},
   "source": [
    "La variable que presenta un mayor poder explicativo de la variabilidad de Balance es *Rating*, ya que presenta un R cuadrado 0.746, valor que supera las otras variables"
   ]
  },
  {
   "cell_type": "markdown",
   "id": "f5b806d8",
   "metadata": {},
   "source": [
    "○ **¿Qué podemos decir sobre el comportamiento de <span style='background:gainsboro'><font color='dimgray'>Student</font></span>?**"
   ]
  },
  {
   "cell_type": "markdown",
   "id": "b34aff21",
   "metadata": {},
   "source": [
    "A pesar de tener un R cuadrado pequeño de  0.067 , tiene un coeficiente de 396.4556, lo que es significativamente alto, especialmente considerando que el numero de estudiantes es muy pequeño, son 10 en total."
   ]
  },
  {
   "cell_type": "markdown",
   "id": "7baa81d0",
   "metadata": {},
   "source": [
    "○ **¿Qué pasa si aplicamos una prueba de hipótesis para muestras independientes de <span style='background:gainsboro'><font color='dimgray'>Balance</font></span> entre aquellos que son y no son estudiantes?**"
   ]
  },
  {
   "cell_type": "code",
   "execution_count": 19,
   "id": "3f752178",
   "metadata": {},
   "outputs": [],
   "source": [
    "#creamos nuestra función para la prueba de hipótesis\n",
    "def prueba_de_hipotesis(dataframe, variable, binarize):\n",
    "    df_grupo1 = dataframe[dataframe[binarize]==1]\n",
    "    df_grupo0 = dataframe[dataframe[binarize]==0]\n",
    "    tests = stats.ttest_ind(df_grupo1[variable].dropna(),df_grupo0[variable].dropna())\n",
    "    valor_t = round(tests[0], 6)\n",
    "    valor_p = round(tests[1], 6)\n",
    "    media1 = round(df_grupo1[variable].mean(), 2)\n",
    "    media0 = round(df_grupo0[variable].mean(), 2)\n",
    "    diferencia_absoluta_medias = round(abs(media0 - media1), 6)\n",
    "    print(f\"\\n\\033[1mVariable '{variable}'\\033[0m, con \\033[1mindicador de binarización '{binarize}'\\033[0m:\")\n",
    "    print(f\"\\tMedia grupo 0: {media0}, Media grupo 1: {media1}\")\n",
    "    print(f\"\\tValor absoluto de la diferencia entre las medias: {diferencia_absoluta_medias}\")\n",
    "    print(f\"\\tValor t: {valor_t}, Valor p: {valor_p}\")"
   ]
  },
  {
   "cell_type": "code",
   "execution_count": 20,
   "id": "88e103c0",
   "metadata": {},
   "outputs": [
    {
     "name": "stdout",
     "output_type": "stream",
     "text": [
      "\n",
      "\u001b[1mVariable 'Balance'\u001b[0m, con \u001b[1mindicador de binarización 'Is_Student'\u001b[0m:\n",
      "\tMedia grupo 0: 480.37, Media grupo 1: 876.82\n",
      "\tValor absoluto de la diferencia entre las medias: 396.45\n",
      "\tValor t: 5.349964, Valor p: 0.0\n"
     ]
    }
   ],
   "source": [
    "prueba_de_hipotesis(df, 'Balance', 'Is_Student')"
   ]
  },
  {
   "cell_type": "markdown",
   "id": "9e195ca1",
   "metadata": {},
   "source": [
    "Al realizar la prueba de hipótesis comprobamos que existe evidencia estadística para rechazar la hipótesis nula, por lo que aceptamos la hipótesis alternativa de que: los valores de 'balance' de los estudiantes y no estudiantes son significativamente diferentes.\n"
   ]
  },
  {
   "cell_type": "markdown",
   "id": "dec48eba",
   "metadata": {},
   "source": [
    "_________"
   ]
  },
  {
   "cell_type": "markdown",
   "id": "3954c325",
   "metadata": {},
   "source": [
    "<b><font color='MediumSeaGreen'>4.</font> Generar un modelo que incluya todos los regresores (2 puntos):</b>\n",
    "\n",
    "A partir de la siguiente fórmula, genere el modelo que incluya dichos regresores y comente brevemente sobre el poder explicativo en la varianza de 𝑦 y las principales características de los predictores.\n",
    "\n",
    "$Balance_{i} = \\beta_{0} + \\sum_j^N\\beta_{j}\\times X_{ij} + \\epsilon_{i}$"
   ]
  },
  {
   "cell_type": "code",
   "execution_count": 21,
   "id": "ba350eb5",
   "metadata": {},
   "outputs": [
    {
     "name": "stdout",
     "output_type": "stream",
     "text": [
      "<class 'pandas.core.frame.DataFrame'>\n",
      "RangeIndex: 400 entries, 0 to 399\n",
      "Data columns (total 16 columns):\n",
      " #   Column               Non-Null Count  Dtype  \n",
      "---  ------               --------------  -----  \n",
      " 0   Income               400 non-null    float64\n",
      " 1   Limit                400 non-null    int64  \n",
      " 2   Rating               400 non-null    int64  \n",
      " 3   Cards                400 non-null    int64  \n",
      " 4   Age                  400 non-null    int64  \n",
      " 5   Education            400 non-null    int64  \n",
      " 6   Gender               400 non-null    object \n",
      " 7   Student              400 non-null    object \n",
      " 8   Married              400 non-null    object \n",
      " 9   Ethnicity            400 non-null    object \n",
      " 10  Balance              400 non-null    int64  \n",
      " 11  Is_Male              400 non-null    int32  \n",
      " 12  Is_Student           400 non-null    int32  \n",
      " 13  Not_Married          400 non-null    int32  \n",
      " 14  Is_African_American  400 non-null    int32  \n",
      " 15  Is_Asian             400 non-null    int32  \n",
      "dtypes: float64(1), int32(5), int64(6), object(4)\n",
      "memory usage: 42.3+ KB\n"
     ]
    }
   ],
   "source": [
    "#Revisamos los tipos de datos que tenemos en nuestro df\n",
    "df.info()"
   ]
  },
  {
   "cell_type": "code",
   "execution_count": 22,
   "id": "ce736c06",
   "metadata": {},
   "outputs": [
    {
     "data": {
      "text/plain": [
       "'Income+Limit+Rating+Cards+Age+Education+Is_Male+Is_Student+Not_Married+Is_African_American+Is_Asian'"
      ]
     },
     "execution_count": 22,
     "metadata": {},
     "output_type": "execute_result"
    }
   ],
   "source": [
    "#definimos la variables no categóricas\n",
    "\n",
    "variables_no_categoricas = []\n",
    "\n",
    "for n, i in enumerate(df):\n",
    "    if (i !='Balance' and df[i].dtypes !=\"object\"):\n",
    "        variables_no_categoricas.append(i)\n",
    "variables_independientes = \"+\".join(variables_no_categoricas)\n",
    "\n",
    "variables_independientes"
   ]
  },
  {
   "cell_type": "code",
   "execution_count": 23,
   "id": "f2f342e8",
   "metadata": {},
   "outputs": [
    {
     "data": {
      "text/html": [
       "<table class=\"simpletable\">\n",
       "<tr>\n",
       "        <td>Model:</td>               <td>OLS</td>         <td>Adj. R-squared:</td>     <td>0.954</td>  \n",
       "</tr>\n",
       "<tr>\n",
       "  <td>Dependent Variable:</td>      <td>Balance</td>            <td>AIC:</td>         <td>4821.3704</td>\n",
       "</tr>\n",
       "<tr>\n",
       "         <td>Date:</td>        <td>2022-07-21 20:32</td>        <td>BIC:</td>         <td>4869.2680</td>\n",
       "</tr>\n",
       "<tr>\n",
       "   <td>No. Observations:</td>         <td>400</td>         <td>Log-Likelihood:</td>    <td>-2398.7</td> \n",
       "</tr>\n",
       "<tr>\n",
       "       <td>Df Model:</td>             <td>11</td>           <td>F-statistic:</td>       <td>750.3</td>  \n",
       "</tr>\n",
       "<tr>\n",
       "     <td>Df Residuals:</td>           <td>388</td>       <td>Prob (F-statistic):</td> <td>1.11e-253</td>\n",
       "</tr>\n",
       "<tr>\n",
       "      <td>R-squared:</td>            <td>0.955</td>            <td>Scale:</td>         <td>9759.6</td>  \n",
       "</tr>\n",
       "</table>\n",
       "<table class=\"simpletable\">\n",
       "<tr>\n",
       "           <td></td>             <th>Coef.</th>   <th>Std.Err.</th>     <th>t</th>     <th>P>|t|</th>  <th>[0.025</th>    <th>0.975]</th>  \n",
       "</tr>\n",
       "<tr>\n",
       "  <th>Intercept</th>           <td>-488.2880</td>  <td>34.8161</td> <td>-14.0248</td> <td>0.0000</td> <td>-556.7397</td> <td>-419.8362</td>\n",
       "</tr>\n",
       "<tr>\n",
       "  <th>Income</th>               <td>-7.8031</td>   <td>0.2342</td>  <td>-33.3136</td> <td>0.0000</td>  <td>-8.2636</td>   <td>-7.3426</td> \n",
       "</tr>\n",
       "<tr>\n",
       "  <th>Limit</th>                <td>0.1909</td>    <td>0.0328</td>   <td>5.8241</td>  <td>0.0000</td>  <td>0.1265</td>    <td>0.2554</td>  \n",
       "</tr>\n",
       "<tr>\n",
       "  <th>Rating</th>               <td>1.1365</td>    <td>0.4909</td>   <td>2.3152</td>  <td>0.0211</td>  <td>0.1714</td>    <td>2.1017</td>  \n",
       "</tr>\n",
       "<tr>\n",
       "  <th>Cards</th>                <td>17.7245</td>   <td>4.3410</td>   <td>4.0830</td>  <td>0.0001</td>  <td>9.1896</td>    <td>26.2594</td> \n",
       "</tr>\n",
       "<tr>\n",
       "  <th>Age</th>                  <td>-0.6139</td>   <td>0.2940</td>   <td>-2.0882</td> <td>0.0374</td>  <td>-1.1919</td>   <td>-0.0359</td> \n",
       "</tr>\n",
       "<tr>\n",
       "  <th>Education</th>            <td>-1.0989</td>   <td>1.5980</td>   <td>-0.6877</td> <td>0.4921</td>  <td>-4.2406</td>   <td>2.0429</td>  \n",
       "</tr>\n",
       "<tr>\n",
       "  <th>Is_Male</th>              <td>10.6532</td>   <td>9.9140</td>   <td>1.0746</td>  <td>0.2832</td>  <td>-8.8386</td>   <td>30.1451</td> \n",
       "</tr>\n",
       "<tr>\n",
       "  <th>Is_Student</th>          <td>425.7474</td>   <td>16.7226</td>  <td>25.4594</td> <td>0.0000</td> <td>392.8691</td>  <td>458.6256</td> \n",
       "</tr>\n",
       "<tr>\n",
       "  <th>Not_Married</th>          <td>8.5339</td>    <td>10.3629</td>  <td>0.8235</td>  <td>0.4107</td> <td>-11.8405</td>   <td>28.9083</td> \n",
       "</tr>\n",
       "<tr>\n",
       "  <th>Is_African_American</th> <td>-10.1070</td>   <td>12.2099</td>  <td>-0.8278</td> <td>0.4083</td> <td>-34.1129</td>   <td>13.8989</td> \n",
       "</tr>\n",
       "<tr>\n",
       "  <th>Is_Asian</th>             <td>6.6972</td>    <td>12.1224</td>  <td>0.5525</td>  <td>0.5810</td> <td>-17.1367</td>   <td>30.5310</td> \n",
       "</tr>\n",
       "</table>\n",
       "<table class=\"simpletable\">\n",
       "<tr>\n",
       "     <td>Omnibus:</td>    <td>34.899</td>  <td>Durbin-Watson:</td>    <td>1.968</td>\n",
       "</tr>\n",
       "<tr>\n",
       "  <td>Prob(Omnibus):</td>  <td>0.000</td> <td>Jarque-Bera (JB):</td> <td>41.766</td>\n",
       "</tr>\n",
       "<tr>\n",
       "       <td>Skew:</td>      <td>0.782</td>     <td>Prob(JB):</td>      <td>0.000</td>\n",
       "</tr>\n",
       "<tr>\n",
       "     <td>Kurtosis:</td>    <td>3.241</td>  <td>Condition No.:</td>    <td>37395</td>\n",
       "</tr>\n",
       "</table>"
      ],
      "text/plain": [
       "<class 'statsmodels.iolib.summary2.Summary'>\n",
       "\"\"\"\n",
       "                     Results: Ordinary least squares\n",
       "==========================================================================\n",
       "Model:                  OLS                Adj. R-squared:       0.954    \n",
       "Dependent Variable:     Balance            AIC:                  4821.3704\n",
       "Date:                   2022-07-21 20:32   BIC:                  4869.2680\n",
       "No. Observations:       400                Log-Likelihood:       -2398.7  \n",
       "Df Model:               11                 F-statistic:          750.3    \n",
       "Df Residuals:           388                Prob (F-statistic):   1.11e-253\n",
       "R-squared:              0.955              Scale:                9759.6   \n",
       "--------------------------------------------------------------------------\n",
       "                      Coef.   Std.Err.    t     P>|t|    [0.025    0.975] \n",
       "--------------------------------------------------------------------------\n",
       "Intercept           -488.2880  34.8161 -14.0248 0.0000 -556.7397 -419.8362\n",
       "Income                -7.8031   0.2342 -33.3136 0.0000   -8.2636   -7.3426\n",
       "Limit                  0.1909   0.0328   5.8241 0.0000    0.1265    0.2554\n",
       "Rating                 1.1365   0.4909   2.3152 0.0211    0.1714    2.1017\n",
       "Cards                 17.7245   4.3410   4.0830 0.0001    9.1896   26.2594\n",
       "Age                   -0.6139   0.2940  -2.0882 0.0374   -1.1919   -0.0359\n",
       "Education             -1.0989   1.5980  -0.6877 0.4921   -4.2406    2.0429\n",
       "Is_Male               10.6532   9.9140   1.0746 0.2832   -8.8386   30.1451\n",
       "Is_Student           425.7474  16.7226  25.4594 0.0000  392.8691  458.6256\n",
       "Not_Married            8.5339  10.3629   0.8235 0.4107  -11.8405   28.9083\n",
       "Is_African_American  -10.1070  12.2099  -0.8278 0.4083  -34.1129   13.8989\n",
       "Is_Asian               6.6972  12.1224   0.5525 0.5810  -17.1367   30.5310\n",
       "--------------------------------------------------------------------------\n",
       "Omnibus:                 34.899          Durbin-Watson:             1.968 \n",
       "Prob(Omnibus):           0.000           Jarque-Bera (JB):          41.766\n",
       "Skew:                    0.782           Prob(JB):                  0.000 \n",
       "Kurtosis:                3.241           Condition No.:             37395 \n",
       "==========================================================================\n",
       "* The condition number is large (4e+04). This might indicate\n",
       "strong multicollinearity or other numerical problems.\n",
       "\"\"\""
      ]
     },
     "execution_count": 23,
     "metadata": {},
     "output_type": "execute_result"
    }
   ],
   "source": [
    "#creamos el modelo saturado\n",
    "modelo_saturado = smf.ols('Balance ~ '+variables_independientes, data=df)\n",
    "modelo_saturado = modelo_saturado.fit()\n",
    "modelo_saturado.summary2()"
   ]
  },
  {
   "cell_type": "markdown",
   "id": "231c47b4",
   "metadata": {},
   "source": [
    "Se observa que el modelo explica en un 0.955 la varianza de la variable  Balance', sin embargo se aprecia que en las variables 'Age', 'Education', 'Is_Male', 'Not_Married', 'Is_African_American' y 'Is_Asian' no aportan significativamente a la predicción del valor de la variable dependiente."
   ]
  },
  {
   "cell_type": "markdown",
   "id": "73729b61",
   "metadata": {},
   "source": [
    "_________"
   ]
  },
  {
   "cell_type": "markdown",
   "id": "1110983d",
   "metadata": {},
   "source": [
    "<b><font color='MediumSeaGreen'>5.</font> Depurar el modelo e incluya sólo los predictores significativo (2 puntos)</b>\n",
    "\n",
    "● En base al modelo anterior, refactoriza e incluya sólo las variables con un nivel de significancia 𝑝 − 𝑣𝑎𝑙𝑢𝑒 ≤. 025. Comente brevemente sobre el poder\n",
    "explicativo en la varianza de 𝑦 y las principales características de los\n",
    "predictores.\n",
    "\n",
    "● ¿Mejoró o empeoró el modelo con la reducción de regresores?"
   ]
  },
  {
   "cell_type": "code",
   "execution_count": 24,
   "id": "eed3067f",
   "metadata": {
    "scrolled": true
   },
   "outputs": [
    {
     "data": {
      "text/plain": [
       "['Income',\n",
       " 'Limit',\n",
       " 'Rating',\n",
       " 'Cards',\n",
       " 'Age',\n",
       " 'Education',\n",
       " 'Is_Male',\n",
       " 'Is_Student',\n",
       " 'Not_Married',\n",
       " 'Is_African_American',\n",
       " 'Is_Asian']"
      ]
     },
     "execution_count": 24,
     "metadata": {},
     "output_type": "execute_result"
    }
   ],
   "source": [
    "variables_no_categoricas"
   ]
  },
  {
   "cell_type": "code",
   "execution_count": 25,
   "id": "257e3e81",
   "metadata": {},
   "outputs": [],
   "source": [
    "#eliminamos las variables con una significancia >= 0.025\n",
    "variables_no_categoricas.remove('Age')\n",
    "variables_no_categoricas.remove('Education')\n",
    "variables_no_categoricas.remove('Is_Male')\n",
    "variables_no_categoricas.remove('Not_Married')\n",
    "variables_no_categoricas.remove('Is_African_American')\n",
    "variables_no_categoricas.remove('Is_Asian')"
   ]
  },
  {
   "cell_type": "code",
   "execution_count": 26,
   "id": "ae932eb1",
   "metadata": {},
   "outputs": [
    {
     "data": {
      "text/plain": [
       "['Income', 'Limit', 'Rating', 'Cards', 'Is_Student']"
      ]
     },
     "execution_count": 26,
     "metadata": {},
     "output_type": "execute_result"
    }
   ],
   "source": [
    "#verificamos\n",
    "variables_no_categoricas"
   ]
  },
  {
   "cell_type": "code",
   "execution_count": 27,
   "id": "057465be",
   "metadata": {},
   "outputs": [
    {
     "data": {
      "text/plain": [
       "'Income+Limit+Rating+Cards+Is_Student'"
      ]
     },
     "execution_count": 27,
     "metadata": {},
     "output_type": "execute_result"
    }
   ],
   "source": [
    "variables_independientes = \"+\".join(variables_no_categoricas)\n",
    "variables_independientes"
   ]
  },
  {
   "cell_type": "code",
   "execution_count": 28,
   "id": "c5f1a0bc",
   "metadata": {},
   "outputs": [
    {
     "data": {
      "text/html": [
       "<table class=\"simpletable\">\n",
       "<tr>\n",
       "        <td>Model:</td>               <td>OLS</td>         <td>Adj. R-squared:</td>     <td>0.954</td>  \n",
       "</tr>\n",
       "<tr>\n",
       "  <td>Dependent Variable:</td>      <td>Balance</td>            <td>AIC:</td>         <td>4817.6668</td>\n",
       "</tr>\n",
       "<tr>\n",
       "         <td>Date:</td>        <td>2022-07-21 20:32</td>        <td>BIC:</td>         <td>4841.6156</td>\n",
       "</tr>\n",
       "<tr>\n",
       "   <td>No. Observations:</td>         <td>400</td>         <td>Log-Likelihood:</td>    <td>-2402.8</td> \n",
       "</tr>\n",
       "<tr>\n",
       "       <td>Df Model:</td>              <td>5</td>           <td>F-statistic:</td>       <td>1640.</td>  \n",
       "</tr>\n",
       "<tr>\n",
       "     <td>Df Residuals:</td>           <td>394</td>       <td>Prob (F-statistic):</td> <td>3.60e-261</td>\n",
       "</tr>\n",
       "<tr>\n",
       "      <td>R-squared:</td>            <td>0.954</td>            <td>Scale:</td>         <td>9812.4</td>  \n",
       "</tr>\n",
       "</table>\n",
       "<table class=\"simpletable\">\n",
       "<tr>\n",
       "       <td></td>        <th>Coef.</th>   <th>Std.Err.</th>     <th>t</th>     <th>P>|t|</th>  <th>[0.025</th>    <th>0.975]</th>  \n",
       "</tr>\n",
       "<tr>\n",
       "  <th>Intercept</th>  <td>-526.1555</td>  <td>19.7466</td> <td>-26.6454</td> <td>0.0000</td> <td>-564.9774</td> <td>-487.3336</td>\n",
       "</tr>\n",
       "<tr>\n",
       "  <th>Income</th>      <td>-7.8749</td>   <td>0.2315</td>  <td>-34.0236</td> <td>0.0000</td>  <td>-8.3300</td>   <td>-7.4199</td> \n",
       "</tr>\n",
       "<tr>\n",
       "  <th>Limit</th>       <td>0.1944</td>    <td>0.0325</td>   <td>5.9768</td>  <td>0.0000</td>  <td>0.1305</td>    <td>0.2584</td>  \n",
       "</tr>\n",
       "<tr>\n",
       "  <th>Rating</th>      <td>1.0879</td>    <td>0.4870</td>   <td>2.2339</td>  <td>0.0260</td>  <td>0.1305</td>    <td>2.0453</td>  \n",
       "</tr>\n",
       "<tr>\n",
       "  <th>Cards</th>       <td>17.8517</td>   <td>4.3349</td>   <td>4.1182</td>  <td>0.0000</td>  <td>9.3293</td>    <td>26.3741</td> \n",
       "</tr>\n",
       "<tr>\n",
       "  <th>Is_Student</th> <td>426.8501</td>   <td>16.5740</td>  <td>25.7542</td> <td>0.0000</td> <td>394.2656</td>  <td>459.4347</td> \n",
       "</tr>\n",
       "</table>\n",
       "<table class=\"simpletable\">\n",
       "<tr>\n",
       "     <td>Omnibus:</td>    <td>30.263</td>  <td>Durbin-Watson:</td>    <td>1.949</td>\n",
       "</tr>\n",
       "<tr>\n",
       "  <td>Prob(Omnibus):</td>  <td>0.000</td> <td>Jarque-Bera (JB):</td> <td>35.257</td>\n",
       "</tr>\n",
       "<tr>\n",
       "       <td>Skew:</td>      <td>0.722</td>     <td>Prob(JB):</td>      <td>0.000</td>\n",
       "</tr>\n",
       "<tr>\n",
       "     <td>Kurtosis:</td>    <td>3.179</td>  <td>Condition No.:</td>    <td>21155</td>\n",
       "</tr>\n",
       "</table>"
      ],
      "text/plain": [
       "<class 'statsmodels.iolib.summary2.Summary'>\n",
       "\"\"\"\n",
       "                 Results: Ordinary least squares\n",
       "==================================================================\n",
       "Model:              OLS              Adj. R-squared:     0.954    \n",
       "Dependent Variable: Balance          AIC:                4817.6668\n",
       "Date:               2022-07-21 20:32 BIC:                4841.6156\n",
       "No. Observations:   400              Log-Likelihood:     -2402.8  \n",
       "Df Model:           5                F-statistic:        1640.    \n",
       "Df Residuals:       394              Prob (F-statistic): 3.60e-261\n",
       "R-squared:          0.954            Scale:              9812.4   \n",
       "------------------------------------------------------------------\n",
       "              Coef.   Std.Err.    t     P>|t|    [0.025    0.975] \n",
       "------------------------------------------------------------------\n",
       "Intercept   -526.1555  19.7466 -26.6454 0.0000 -564.9774 -487.3336\n",
       "Income        -7.8749   0.2315 -34.0236 0.0000   -8.3300   -7.4199\n",
       "Limit          0.1944   0.0325   5.9768 0.0000    0.1305    0.2584\n",
       "Rating         1.0879   0.4870   2.2339 0.0260    0.1305    2.0453\n",
       "Cards         17.8517   4.3349   4.1182 0.0000    9.3293   26.3741\n",
       "Is_Student   426.8501  16.5740  25.7542 0.0000  394.2656  459.4347\n",
       "------------------------------------------------------------------\n",
       "Omnibus:               30.263       Durbin-Watson:          1.949 \n",
       "Prob(Omnibus):         0.000        Jarque-Bera (JB):       35.257\n",
       "Skew:                  0.722        Prob(JB):               0.000 \n",
       "Kurtosis:              3.179        Condition No.:          21155 \n",
       "==================================================================\n",
       "* The condition number is large (2e+04). This might indicate\n",
       "strong multicollinearity or other numerical problems.\n",
       "\"\"\""
      ]
     },
     "execution_count": 28,
     "metadata": {},
     "output_type": "execute_result"
    }
   ],
   "source": [
    "modelo_depurado = smf.ols('Balance ~ '+variables_independientes, data=df)\n",
    "modelo_depurado = modelo_depurado.fit()\n",
    "modelo_depurado.summary2()"
   ]
  },
  {
   "cell_type": "markdown",
   "id": "bfdebe03",
   "metadata": {},
   "source": [
    "**Comente brevemente sobre el poder\n",
    "explicativo en la varianza de 𝑦 y las principales características de los\n",
    "predictores.**"
   ]
  },
  {
   "cell_type": "markdown",
   "id": "b66c0147",
   "metadata": {},
   "source": [
    "Eliminando las variables da como rsultado el mismo R cuadrado, lo que significa que las varibles eliminadas no son significativas para predecir 'Balance'.\n",
    "\n",
    "- 'Income': Se aprecia una relación inversamente proporcional con 'Balance'.\n",
    "\n",
    "- 'Limit': Se aprecia un bajo aporte marginal al incremento de 'Balance'.\n",
    "\n",
    "- 'Rating': Luego de la depuración del modelo, su  𝑝_𝑣𝑎𝑙𝑢𝑒  aumentó a 0.026.\n",
    "\n",
    "- 'Cards': Se aprecia una relación directamente proporcional con 'Balance', siendo la segunda variable con mayor aporte marginal.\n",
    "\n",
    "- 'Is_Student': Variable binaria con el mayor aporte marginal a 'Balance'."
   ]
  },
  {
   "cell_type": "markdown",
   "id": "01409e61",
   "metadata": {},
   "source": [
    "**¿Mejoró o empeoró el modelo con la reducción de regresores?**"
   ]
  },
  {
   "cell_type": "markdown",
   "id": "97e3eb76",
   "metadata": {},
   "source": [
    "El modelo se mantiene ya que no varia el R cuadrado, aunque mejora la eficiencia del modelo ya que recorre menos variables"
   ]
  },
  {
   "cell_type": "markdown",
   "id": "035c51e3",
   "metadata": {},
   "source": [
    "_______"
   ]
  },
  {
   "cell_type": "markdown",
   "id": "6e6e6995",
   "metadata": {},
   "source": [
    "<b><font color='MediumSeaGreen'>6.</font> Utilizando <span style='background:gainsboro'><font color='dimgray'>lmplot</font></span> de <span style='background:gainsboro'><font color='dimgray'>seaborn</font></span>, inspeccione el comportamiento de los tres principales determinantes. (2 puntos)</b>\n"
   ]
  },
  {
   "cell_type": "code",
   "execution_count": 29,
   "id": "d4de315d",
   "metadata": {},
   "outputs": [
    {
     "data": {
      "text/plain": [
       "<seaborn.axisgrid.FacetGrid at 0x1bb5b82c5c0>"
      ]
     },
     "execution_count": 29,
     "metadata": {},
     "output_type": "execute_result"
    },
    {
     "data": {
      "image/png": "[encoded data removed]",
      "text/plain": [
       "<Figure size 360x360 with 1 Axes>"
      ]
     },
     "metadata": {
      "needs_background": "light"
     },
     "output_type": "display_data"
    }
   ],
   "source": [
    "sns.lmplot(x=\"Balance\", y=\"Is_Student\", data=df)"
   ]
  },
  {
   "cell_type": "code",
   "execution_count": 30,
   "id": "af371a08",
   "metadata": {},
   "outputs": [
    {
     "data": {
      "text/plain": [
       "<seaborn.axisgrid.FacetGrid at 0x1bb5b83a400>"
      ]
     },
     "execution_count": 30,
     "metadata": {},
     "output_type": "execute_result"
    },
    {
     "data": {
      "image/png": "[encoded data removed]",
      "text/plain": [
       "<Figure size 360x360 with 1 Axes>"
      ]
     },
     "metadata": {
      "needs_background": "light"
     },
     "output_type": "display_data"
    }
   ],
   "source": [
    "sns.lmplot(x=\"Balance\", y=\"Cards\", data=df)"
   ]
  },
  {
   "cell_type": "code",
   "execution_count": 31,
   "id": "e39913cd",
   "metadata": {},
   "outputs": [
    {
     "data": {
      "text/plain": [
       "<seaborn.axisgrid.FacetGrid at 0x1bb5b5f7e48>"
      ]
     },
     "execution_count": 31,
     "metadata": {},
     "output_type": "execute_result"
    },
    {
     "data": {
      "image/png": "[encoded data removed]",
      "text/plain": [
       "<Figure size 360x360 with 1 Axes>"
      ]
     },
     "metadata": {
      "needs_background": "light"
     },
     "output_type": "display_data"
    }
   ],
   "source": [
    "sns.lmplot(x=\"Balance\", y=\"Income\", data=df)"
   ]
  },
  {
   "cell_type": "code",
   "execution_count": 32,
   "id": "d3d2db06",
   "metadata": {},
   "outputs": [
    {
     "data": {
      "text/plain": [
       "<seaborn.axisgrid.FacetGrid at 0x1bb5b956400>"
      ]
     },
     "execution_count": 32,
     "metadata": {},
     "output_type": "execute_result"
    },
    {
     "data": {
      "image/png": "[encoded data removed]",
      "text/plain": [
       "<Figure size 360x360 with 1 Axes>"
      ]
     },
     "metadata": {
      "needs_background": "light"
     },
     "output_type": "display_data"
    }
   ],
   "source": [
    "sns.lmplot(x=\"Balance\", y=\"Rating\", data=df)"
   ]
  },
  {
   "cell_type": "markdown",
   "id": "c1c72efe",
   "metadata": {},
   "source": [
    "_____"
   ]
  }
 ],
 "metadata": {
  "kernelspec": {
   "display_name": "Python 3",
   "language": "python",
   "name": "python3"
  },
  "language_info": {
   "codemirror_mode": {
    "name": "ipython",
    "version": 3
   },
   "file_extension": ".py",
   "mimetype": "text/x-python",
   "name": "python",
   "nbconvert_exporter": "python",
   "pygments_lexer": "ipython3",
   "version": "3.7.1"
  }
 },
 "nbformat": 4,
 "nbformat_minor": 5
}
